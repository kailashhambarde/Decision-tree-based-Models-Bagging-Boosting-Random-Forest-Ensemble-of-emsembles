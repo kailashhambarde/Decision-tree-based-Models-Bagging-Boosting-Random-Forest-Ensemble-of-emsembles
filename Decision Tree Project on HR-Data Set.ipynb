{
 "cells": [
  {
   "cell_type": "code",
   "execution_count": 2,
   "metadata": {},
   "outputs": [],
   "source": [
    "import os\n",
    "os.chdir(\"C:\\\\Users\\\\Panu\\\\Downloads\\\\9781788295758_Code\\\\StatisticsforMachineLearning_Code\\\\Chapter04\")\n"
   ]
  },
  {
   "cell_type": "code",
   "execution_count": 3,
   "metadata": {},
   "outputs": [],
   "source": [
    "import numpy as np\n",
    "import pandas as pd\n",
    "from sklearn.model_selection import train_test_split    \n",
    "from sklearn.metrics import accuracy_score,classification_report\n",
    "\n",
    "import matplotlib.pyplot as plt\n",
    "\n",
    "\n",
    "hrattr_data = pd.read_csv(\"WA_Fn-UseC_-HR-Employee-Attrition.csv\")\n"
   ]
  },
  {
   "cell_type": "code",
   "execution_count": 4,
   "metadata": {},
   "outputs": [
    {
     "name": "stdout",
     "output_type": "stream",
     "text": [
      "   Age Attrition     BusinessTravel  DailyRate              Department  \\\n",
      "0   41       Yes      Travel_Rarely       1102                   Sales   \n",
      "1   49        No  Travel_Frequently        279  Research & Development   \n",
      "2   37       Yes      Travel_Rarely       1373  Research & Development   \n",
      "3   33        No  Travel_Frequently       1392  Research & Development   \n",
      "4   27        No      Travel_Rarely        591  Research & Development   \n",
      "\n",
      "   DistanceFromHome  Education EducationField  EmployeeCount  EmployeeNumber  \\\n",
      "0                 1          2  Life Sciences              1               1   \n",
      "1                 8          1  Life Sciences              1               2   \n",
      "2                 2          2          Other              1               4   \n",
      "3                 3          4  Life Sciences              1               5   \n",
      "4                 2          1        Medical              1               7   \n",
      "\n",
      "           ...           RelationshipSatisfaction StandardHours  \\\n",
      "0          ...                                  1            80   \n",
      "1          ...                                  4            80   \n",
      "2          ...                                  2            80   \n",
      "3          ...                                  3            80   \n",
      "4          ...                                  4            80   \n",
      "\n",
      "   StockOptionLevel  TotalWorkingYears  TrainingTimesLastYear WorkLifeBalance  \\\n",
      "0                 0                  8                      0               1   \n",
      "1                 1                 10                      3               3   \n",
      "2                 0                  7                      3               3   \n",
      "3                 0                  8                      3               3   \n",
      "4                 1                  6                      3               3   \n",
      "\n",
      "   YearsAtCompany YearsInCurrentRole  YearsSinceLastPromotion  \\\n",
      "0               6                  4                        0   \n",
      "1              10                  7                        1   \n",
      "2               0                  0                        0   \n",
      "3               8                  7                        3   \n",
      "4               2                  2                        2   \n",
      "\n",
      "   YearsWithCurrManager  \n",
      "0                     5  \n",
      "1                     7  \n",
      "2                     0  \n",
      "3                     0  \n",
      "4                     2  \n",
      "\n",
      "[5 rows x 35 columns]\n"
     ]
    }
   ],
   "source": [
    "print(hrattr_data.head())"
   ]
  },
  {
   "cell_type": "code",
   "execution_count": 6,
   "metadata": {},
   "outputs": [],
   "source": [
    "hrattr_data['Attrition_ind'] = 0\n",
    "hrattr_data.loc[hrattr_data['Attrition']=='Yes','Attrition_ind'] = 1\n",
    "\n"
   ]
  },
  {
   "cell_type": "markdown",
   "metadata": {},
   "source": [
    "# Creating Dummy Varibales"
   ]
  },
  {
   "cell_type": "markdown",
   "metadata": {},
   "source": [
    "Dummy varibles are created for all seven categorical variables(shown here in alphabetical order),\n",
    "which are Business Travle, Department, Education Field, Gender,JOb Role, Marital Status and Overtime.\n",
    "\n",
    "\n",
    "We have ignored four variables from the analysis as they do not change across the observations, \n",
    "which are Employee count, Employee number, Over18, and Standard Hours:"
   ]
  },
  {
   "cell_type": "markdown",
   "metadata": {},
   "source": [
    "# Dummy Variables for Categorical Variables"
   ]
  },
  {
   "cell_type": "code",
   "execution_count": 7,
   "metadata": {},
   "outputs": [],
   "source": [
    "dummy_busnstrvl = pd.get_dummies(hrattr_data['BusinessTravel'], prefix='busns_trvl')\n",
    "dummy_dept = pd.get_dummies(hrattr_data['Department'], prefix='dept')\n",
    "dummy_edufield = pd.get_dummies(hrattr_data['EducationField'], prefix='edufield')\n",
    "dummy_gender = pd.get_dummies(hrattr_data['Gender'], prefix='gend')\n",
    "dummy_jobrole = pd.get_dummies(hrattr_data['JobRole'], prefix='jobrole')\n",
    "dummy_maritstat = pd.get_dummies(hrattr_data['MaritalStatus'], prefix='maritalstat') \n",
    "dummy_overtime = pd.get_dummies(hrattr_data['OverTime'], prefix='overtime') \n"
   ]
  },
  {
   "cell_type": "markdown",
   "metadata": {},
   "source": [
    "# Continuous variables are separated and will be combined with the created dummpy variables later:\n",
    "\n",
    "\n",
    "# Dummy Variables for Continuous "
   ]
  },
  {
   "cell_type": "code",
   "execution_count": 8,
   "metadata": {},
   "outputs": [],
   "source": [
    "continuous_columns = ['Age','DailyRate','DistanceFromHome','Education','EnvironmentSatisfaction',\n",
    "'HourlyRate', 'JobInvolvement', 'JobLevel','JobSatisfaction','MonthlyIncome', 'MonthlyRate', 'NumCompaniesWorked', \n",
    "'PercentSalaryHike', 'PerformanceRating', 'RelationshipSatisfaction','StockOptionLevel', 'TotalWorkingYears', \n",
    "'TrainingTimesLastYear','WorkLifeBalance', 'YearsAtCompany', 'YearsInCurrentRole', 'YearsSinceLastPromotion',\n",
    "'YearsWithCurrManager']\n"
   ]
  },
  {
   "cell_type": "code",
   "execution_count": 9,
   "metadata": {},
   "outputs": [],
   "source": [
    "hrattr_continuous = hrattr_data[continuous_columns]"
   ]
  },
  {
   "cell_type": "markdown",
   "metadata": {},
   "source": [
    "In the following step, both derived dummy variables from categorical variables and straight continuous variables are combined"
   ]
  },
  {
   "cell_type": "code",
   "execution_count": 10,
   "metadata": {},
   "outputs": [
    {
     "data": {
      "text/plain": [
       "count    1470.000000\n",
       "mean       36.923810\n",
       "std         9.135373\n",
       "min        18.000000\n",
       "25%        30.000000\n",
       "50%        36.000000\n",
       "75%        43.000000\n",
       "max        60.000000\n",
       "Name: Age, dtype: float64"
      ]
     },
     "execution_count": 10,
     "metadata": {},
     "output_type": "execute_result"
    }
   ],
   "source": [
    "hrattr_continuous['Age'].describe()\n",
    "\n"
   ]
  },
  {
   "cell_type": "code",
   "execution_count": 11,
   "metadata": {},
   "outputs": [
    {
     "data": {
      "text/plain": [
       "Travel_Rarely        1043\n",
       "Travel_Frequently     277\n",
       "Non-Travel            150\n",
       "Name: BusinessTravel, dtype: int64"
      ]
     },
     "execution_count": 11,
     "metadata": {},
     "output_type": "execute_result"
    }
   ],
   "source": [
    "hrattr_data['BusinessTravel'].value_counts()\n"
   ]
  },
  {
   "cell_type": "code",
   "execution_count": 12,
   "metadata": {},
   "outputs": [],
   "source": [
    "hrattr_data_new = pd.concat([dummy_busnstrvl,dummy_dept,dummy_edufield,dummy_gender,dummy_jobrole,\n",
    "  dummy_maritstat,dummy_overtime,hrattr_continuous,hrattr_data['Attrition_ind']],axis=1)"
   ]
  },
  {
   "cell_type": "markdown",
   "metadata": {},
   "source": [
    "Here,we have not removed one extra derived dummy variable for each categorical variable due to the reason that\n",
    "multicollinearity does not create a problem in decision tree as it dones in either logistic or linear regression,\n",
    "hence we can simply utilize all the derived variables in the rest of the project, as all the models utilize decision trees\n",
    "as an underlying model, even after perfomring ensembles of it."
   ]
  },
  {
   "cell_type": "markdown",
   "metadata": {},
   "source": [
    "# Data Split by 70-30 for Train and Testing\n",
    "\n",
    "Once basic data has prepared. it need to be split by 70-30 for train and testing purpose."
   ]
  },
  {
   "cell_type": "code",
   "execution_count": 13,
   "metadata": {},
   "outputs": [
    {
     "name": "stderr",
     "output_type": "stream",
     "text": [
      "C:\\ProgramData\\Anaconda3\\lib\\site-packages\\sklearn\\model_selection\\_split.py:2026: FutureWarning: From version 0.21, test_size will always complement train_size unless both are specified.\n",
      "  FutureWarning)\n"
     ]
    }
   ],
   "source": [
    "#Train and Test split\n",
    "\n",
    "from sklearn.model_selection import train_test_split\n",
    "\n",
    "x_train,x_test,y_train,y_test = train_test_split(hrattr_data_new.drop(['Attrition_ind'], axis=1),hrattr_data_new['Attrition_ind'], train_size = 0.7, random_state = 42)"
   ]
  },
  {
   "cell_type": "markdown",
   "metadata": {},
   "source": [
    "# Decision Tree Classifier\n",
    "\n",
    "The DecisionTreeClassifier from scikit-learn has been utilized for modeling purpose, which is available in the tree submodelue."
   ]
  },
  {
   "cell_type": "code",
   "execution_count": 14,
   "metadata": {},
   "outputs": [],
   "source": [
    "from sklearn.tree import DecisionTreeClassifier"
   ]
  },
  {
   "cell_type": "markdown",
   "metadata": {},
   "source": [
    "The parameters selected for the DT classifier are in the following code with spliting criterion as Gini,Maximum depth as 5,\n",
    "maximum number of observation required for qualifyling split is 2, and the minimum samples that should be present in the \n",
    "terminal node is 1:"
   ]
  },
  {
   "cell_type": "code",
   "execution_count": 64,
   "metadata": {},
   "outputs": [],
   "source": [
    "dt_fit = DecisionTreeClassifier(criterion=\"gini\",max_depth=5,min_samples_split=2,min_samples_leaf=1,random_state=42)"
   ]
  },
  {
   "cell_type": "markdown",
   "metadata": {},
   "source": [
    "# Fit the model"
   ]
  },
  {
   "cell_type": "code",
   "execution_count": 65,
   "metadata": {},
   "outputs": [
    {
     "data": {
      "text/plain": [
       "DecisionTreeClassifier(class_weight=None, criterion='gini', max_depth=5,\n",
       "            max_features=None, max_leaf_nodes=None,\n",
       "            min_impurity_decrease=0.0, min_impurity_split=None,\n",
       "            min_samples_leaf=1, min_samples_split=2,\n",
       "            min_weight_fraction_leaf=0.0, presort=False, random_state=42,\n",
       "            splitter='best')"
      ]
     },
     "execution_count": 65,
     "metadata": {},
     "output_type": "execute_result"
    }
   ],
   "source": [
    "dt_fit.fit(x_train,y_train)"
   ]
  },
  {
   "cell_type": "code",
   "execution_count": 67,
   "metadata": {},
   "outputs": [
    {
     "name": "stdout",
     "output_type": "stream",
     "text": [
      "\n",
      "Decision Tree - Train Confusion Matrix\n",
      "\n",
      " Predicted    0   1\n",
      "Actuall           \n",
      "0          844   9\n",
      "1           98  78\n",
      "\n",
      "Decision Tree - Train accuracy: 0.896\n",
      "\n",
      "Decision Tree - Train Classification Report\n",
      "              precision    recall  f1-score   support\n",
      "\n",
      "          0       0.90      0.99      0.94       853\n",
      "          1       0.90      0.44      0.59       176\n",
      "\n",
      "avg / total       0.90      0.90      0.88      1029\n",
      "\n",
      "\n",
      "\n",
      "Decision Tree - Test Confusion Matrix\n",
      "\n",
      " Predicted    0   1\n",
      "Actuall           \n",
      "0          361  19\n",
      "1           49  12\n",
      "\n",
      "Decision Tree - Test accuracy: 0.846\n",
      "\n",
      "Decision Tree - Test Classification Report\n",
      "              precision    recall  f1-score   support\n",
      "\n",
      "          0       0.88      0.95      0.91       380\n",
      "          1       0.39      0.20      0.26        61\n",
      "\n",
      "avg / total       0.81      0.85      0.82       441\n",
      "\n"
     ]
    }
   ],
   "source": [
    "print (\"\\nDecision Tree - Train Confusion Matrix\\n\\n\",pd.crosstab(y_train,dt_fit.predict(x_train),rownames = [\"Actuall\"],colnames = [\"Predicted\"]))      \n",
    "print (\"\\nDecision Tree - Train accuracy:\",round(accuracy_score(y_train,dt_fit.predict(x_train)),3))\n",
    "print (\"\\nDecision Tree - Train Classification Report\\n\",classification_report(y_train,dt_fit.predict(x_train)))\n",
    "\n",
    "print (\"\\n\\nDecision Tree - Test Confusion Matrix\\n\\n\",pd.crosstab(y_test,dt_fit.predict(x_test),rownames = [\"Actuall\"],colnames = [\"Predicted\"]))      \n",
    "print (\"\\nDecision Tree - Test accuracy:\",round(accuracy_score(y_test,dt_fit.predict(x_test)),3))\n",
    "print (\"\\nDecision Tree - Test Classification Report\\n\",classification_report(y_test,dt_fit.predict(x_test)))\n",
    "\n"
   ]
  },
  {
   "cell_type": "markdown",
   "metadata": {},
   "source": [
    "- By carefully observing the results, we can infer that, even though the test accuracy is high (84.6%), the precision and recall of\n",
    "one category(Attrition=Yes) is low (precision = 0.39 and recall 0.20). \n",
    "- This could be a serious issue when management tries to use this model to provide some extra benefits proactively to the\n",
    "employee with high chance pf attrition prior to actual attrition,  as this model is unable to indetify the real employees\n",
    "who will be leaving.\n",
    "- hence we neeed to look for other modifications; one way is to control the model by using class weights.\n",
    "- By utilizing class weights, we can increase the importance of a particular class at the cost of an omcrease in other errors.\n",
    "\n",
    "- For example, by increasing class weight to category 1, we can identify morre employees with the characteristics of actual attrition, but by doing so, we will mark some of the nonpotential churner employees as potential attriters(which should be acceptable)\n",
    "\n",
    "\n",
    "- Another classical exmaple of the important use of class weights is, in banking scenarios.\n",
    "- When giving loans, it is better to reject some good applications than accepting bad loans.\n",
    "- Hence, even in this case, it is a better idea to use higher weightage to defaulters over non defaulters."
   ]
  },
  {
   "cell_type": "markdown",
   "metadata": {},
   "source": [
    "# Tuning Class weights in decision tree classifier"
   ]
  },
  {
   "cell_type": "markdown",
   "metadata": {},
   "source": [
    "- In the following code, class weights are tuned to see the performeance change in decision tree with the same parameters.\n",
    "\n",
    "- A dummy DataFrame is created to save all the results of various precision-recall details of combinations."
   ]
  },
  {
   "cell_type": "code",
   "execution_count": 78,
   "metadata": {},
   "outputs": [],
   "source": [
    "dummyarray = np.empty((6,10))#six row and ten columns\n",
    "dt_wttune = pd.DataFrame(dummyarray)"
   ]
  },
  {
   "cell_type": "code",
   "execution_count": 79,
   "metadata": {},
   "outputs": [
    {
     "data": {
      "text/plain": [
       "array([[0.000e+000, 4.941e-324, 9.881e-324, 1.482e-323, 1.976e-323,\n",
       "        2.470e-323, 2.964e-323, 3.458e-323, 3.953e-323, 4.447e-323],\n",
       "       [4.941e-323, 5.435e-323, 5.929e-323, 6.423e-323, 6.917e-323,\n",
       "        7.411e-323, 7.905e-323, 8.399e-323, 8.893e-323, 9.387e-323],\n",
       "       [9.881e-323, 1.038e-322, 1.087e-322, 1.136e-322, 1.186e-322,\n",
       "        1.235e-322, 1.285e-322, 1.334e-322, 1.383e-322, 1.433e-322],\n",
       "       [7.115e-321, 7.119e-321, 7.124e-321, 7.129e-321, 7.134e-321,\n",
       "        7.139e-321, 7.144e-321, 7.149e-321, 7.154e-321, 7.159e-321],\n",
       "       [7.164e-321, 7.169e-321, 7.174e-321, 7.179e-321, 7.184e-321,\n",
       "        7.189e-321, 7.194e-321, 7.199e-321, 7.203e-321, 7.208e-321],\n",
       "       [7.213e-321, 7.218e-321, 7.223e-321, 7.228e-321, 7.233e-321,\n",
       "        7.238e-321, 7.243e-321, 7.248e-321, 7.253e-321, 7.258e-321]])"
      ]
     },
     "execution_count": 79,
     "metadata": {},
     "output_type": "execute_result"
    }
   ],
   "source": [
    "dummyarray"
   ]
  },
  {
   "cell_type": "code",
   "execution_count": 80,
   "metadata": {},
   "outputs": [
    {
     "data": {
      "text/html": [
       "<div>\n",
       "<style scoped>\n",
       "    .dataframe tbody tr th:only-of-type {\n",
       "        vertical-align: middle;\n",
       "    }\n",
       "\n",
       "    .dataframe tbody tr th {\n",
       "        vertical-align: top;\n",
       "    }\n",
       "\n",
       "    .dataframe thead th {\n",
       "        text-align: right;\n",
       "    }\n",
       "</style>\n",
       "<table border=\"1\" class=\"dataframe\">\n",
       "  <thead>\n",
       "    <tr style=\"text-align: right;\">\n",
       "      <th></th>\n",
       "      <th>0</th>\n",
       "      <th>1</th>\n",
       "      <th>2</th>\n",
       "      <th>3</th>\n",
       "      <th>4</th>\n",
       "      <th>5</th>\n",
       "      <th>6</th>\n",
       "      <th>7</th>\n",
       "      <th>8</th>\n",
       "      <th>9</th>\n",
       "    </tr>\n",
       "  </thead>\n",
       "  <tbody>\n",
       "    <tr>\n",
       "      <th>0</th>\n",
       "      <td>0.000000e+00</td>\n",
       "      <td>4.940656e-324</td>\n",
       "      <td>9.881313e-324</td>\n",
       "      <td>1.482197e-323</td>\n",
       "      <td>1.976263e-323</td>\n",
       "      <td>2.470328e-323</td>\n",
       "      <td>2.964394e-323</td>\n",
       "      <td>3.458460e-323</td>\n",
       "      <td>3.952525e-323</td>\n",
       "      <td>4.446591e-323</td>\n",
       "    </tr>\n",
       "    <tr>\n",
       "      <th>1</th>\n",
       "      <td>4.940656e-323</td>\n",
       "      <td>5.434722e-323</td>\n",
       "      <td>5.928788e-323</td>\n",
       "      <td>6.422853e-323</td>\n",
       "      <td>6.916919e-323</td>\n",
       "      <td>7.410985e-323</td>\n",
       "      <td>7.905050e-323</td>\n",
       "      <td>8.399116e-323</td>\n",
       "      <td>8.893182e-323</td>\n",
       "      <td>9.387247e-323</td>\n",
       "    </tr>\n",
       "    <tr>\n",
       "      <th>2</th>\n",
       "      <td>9.881313e-323</td>\n",
       "      <td>1.037538e-322</td>\n",
       "      <td>1.086944e-322</td>\n",
       "      <td>1.136351e-322</td>\n",
       "      <td>1.185758e-322</td>\n",
       "      <td>1.235164e-322</td>\n",
       "      <td>1.284571e-322</td>\n",
       "      <td>1.333977e-322</td>\n",
       "      <td>1.383384e-322</td>\n",
       "      <td>1.432790e-322</td>\n",
       "    </tr>\n",
       "    <tr>\n",
       "      <th>3</th>\n",
       "      <td>7.114545e-321</td>\n",
       "      <td>7.119486e-321</td>\n",
       "      <td>7.124427e-321</td>\n",
       "      <td>7.129367e-321</td>\n",
       "      <td>7.134308e-321</td>\n",
       "      <td>7.139249e-321</td>\n",
       "      <td>7.144189e-321</td>\n",
       "      <td>7.149130e-321</td>\n",
       "      <td>7.154071e-321</td>\n",
       "      <td>7.159011e-321</td>\n",
       "    </tr>\n",
       "    <tr>\n",
       "      <th>4</th>\n",
       "      <td>7.163952e-321</td>\n",
       "      <td>7.168893e-321</td>\n",
       "      <td>7.173833e-321</td>\n",
       "      <td>7.178774e-321</td>\n",
       "      <td>7.183714e-321</td>\n",
       "      <td>7.188655e-321</td>\n",
       "      <td>7.193596e-321</td>\n",
       "      <td>7.198536e-321</td>\n",
       "      <td>7.203477e-321</td>\n",
       "      <td>7.208418e-321</td>\n",
       "    </tr>\n",
       "    <tr>\n",
       "      <th>5</th>\n",
       "      <td>7.213358e-321</td>\n",
       "      <td>7.218299e-321</td>\n",
       "      <td>7.223240e-321</td>\n",
       "      <td>7.228180e-321</td>\n",
       "      <td>7.233121e-321</td>\n",
       "      <td>7.238062e-321</td>\n",
       "      <td>7.243002e-321</td>\n",
       "      <td>7.247943e-321</td>\n",
       "      <td>7.252884e-321</td>\n",
       "      <td>7.257824e-321</td>\n",
       "    </tr>\n",
       "  </tbody>\n",
       "</table>\n",
       "</div>"
      ],
      "text/plain": [
       "               0              1              2              3              4  \\\n",
       "0   0.000000e+00  4.940656e-324  9.881313e-324  1.482197e-323  1.976263e-323   \n",
       "1  4.940656e-323  5.434722e-323  5.928788e-323  6.422853e-323  6.916919e-323   \n",
       "2  9.881313e-323  1.037538e-322  1.086944e-322  1.136351e-322  1.185758e-322   \n",
       "3  7.114545e-321  7.119486e-321  7.124427e-321  7.129367e-321  7.134308e-321   \n",
       "4  7.163952e-321  7.168893e-321  7.173833e-321  7.178774e-321  7.183714e-321   \n",
       "5  7.213358e-321  7.218299e-321  7.223240e-321  7.228180e-321  7.233121e-321   \n",
       "\n",
       "               5              6              7              8              9  \n",
       "0  2.470328e-323  2.964394e-323  3.458460e-323  3.952525e-323  4.446591e-323  \n",
       "1  7.410985e-323  7.905050e-323  8.399116e-323  8.893182e-323  9.387247e-323  \n",
       "2  1.235164e-322  1.284571e-322  1.333977e-322  1.383384e-322  1.432790e-322  \n",
       "3  7.139249e-321  7.144189e-321  7.149130e-321  7.154071e-321  7.159011e-321  \n",
       "4  7.188655e-321  7.193596e-321  7.198536e-321  7.203477e-321  7.208418e-321  \n",
       "5  7.238062e-321  7.243002e-321  7.247943e-321  7.252884e-321  7.257824e-321  "
      ]
     },
     "execution_count": 80,
     "metadata": {},
     "output_type": "execute_result"
    }
   ],
   "source": [
    "dt_wttune"
   ]
  },
  {
   "cell_type": "markdown",
   "metadata": {},
   "source": [
    "- Marics to be considered for capture are weight for zero and one category,for example, if the weight for zero category given is 0.2\n",
    "- then automatically, weights for the one should be 0.8, as total weights should be equal to 1, training and testing accuracy, precison for\n",
    "zero category, one category, and overall.\n",
    "- Simiarly, recall for zero category, one category, and overall are also calculated.\n"
   ]
  },
  {
   "cell_type": "code",
   "execution_count": 81,
   "metadata": {},
   "outputs": [],
   "source": [
    "dt_wttune.columns = [\"zero_wght\",\"one_wght\",\"tr_accuracy\",\"tst_accuracy\",\"prec_zero\",\"prec_one\",\n",
    "                     \"prec_ovll\",\"recl_zero\",\"recl_one\",\"recl_ovll\"]\n",
    "\n"
   ]
  },
  {
   "cell_type": "markdown",
   "metadata": {},
   "source": [
    "- Weights for the zero category are varified from 0.01 to 0.5, as we know we do not want to explor cases where the zero category\n",
    "will be given higher weightages than one category:"
   ]
  },
  {
   "cell_type": "code",
   "execution_count": 82,
   "metadata": {},
   "outputs": [],
   "source": [
    "zero_clwghts = [0.01,0.1,0.2,0.3,0.4,0.5]\n"
   ]
  },
  {
   "cell_type": "code",
   "execution_count": 95,
   "metadata": {},
   "outputs": [
    {
     "name": "stdout",
     "output_type": "stream",
     "text": [
      "\n",
      "Class Weights {0: 0.01, 1: 0.99} Train accuracy: 0.342 Test accuracy: 0.272\n",
      "Test Confusion Matrix\n",
      "\n",
      " Predicted   0    1\n",
      "Actuall           \n",
      "0          65  315\n",
      "1           6   55\n",
      "\n",
      "Class Weights {0: 0.1, 1: 0.9} Train accuracy: 0.806 Test accuracy: 0.732\n",
      "Test Confusion Matrix\n",
      "\n",
      " Predicted    0   1\n",
      "Actuall           \n",
      "0          282  98\n",
      "1           20  41\n",
      "\n",
      "Class Weights {0: 0.2, 1: 0.8} Train accuracy: 0.871 Test accuracy: 0.83\n",
      "Test Confusion Matrix\n",
      "\n",
      " Predicted    0   1\n",
      "Actuall           \n",
      "0          341  39\n",
      "1           36  25\n",
      "\n",
      "Class Weights {0: 0.3, 1: 0.7} Train accuracy: 0.881 Test accuracy: 0.839\n",
      "Test Confusion Matrix\n",
      "\n",
      " Predicted    0   1\n",
      "Actuall           \n",
      "0          345  35\n",
      "1           36  25\n",
      "\n",
      "Class Weights {0: 0.4, 1: 0.6} Train accuracy: 0.894 Test accuracy: 0.832\n",
      "Test Confusion Matrix\n",
      "\n",
      " Predicted    0   1\n",
      "Actuall           \n",
      "0          346  34\n",
      "1           40  21\n",
      "\n",
      "Class Weights {0: 0.5, 1: 0.5} Train accuracy: 0.896 Test accuracy: 0.846\n",
      "Test Confusion Matrix\n",
      "\n",
      " Predicted    0   1\n",
      "Actuall           \n",
      "0          361  19\n",
      "1           49  12\n"
     ]
    }
   ],
   "source": [
    "for i in range(len(zero_clwghts)):\n",
    "    clwght = {0:zero_clwghts[i],1:1.0-zero_clwghts[i]}\n",
    "    dt_fit = DecisionTreeClassifier(criterion=\"gini\",max_depth=5,min_samples_split=2,\n",
    "                                    min_samples_leaf=1,random_state=42,class_weight = clwght)\n",
    "    dt_fit.fit(x_train,y_train)\n",
    "    dt_wttune.loc[i, 'zero_wght'] = clwght[0]       \n",
    "    dt_wttune.loc[i, 'one_wght'] = clwght[1]     \n",
    "    dt_wttune.loc[i, 'tr_accuracy'] = round(accuracy_score(y_train,dt_fit.predict(x_train)),3)    \n",
    "    dt_wttune.loc[i, 'tst_accuracy'] = round(accuracy_score(y_test,dt_fit.predict(x_test)),3)    \n",
    "        \n",
    "    clf_sp = classification_report(y_test,dt_fit.predict(x_test)).split()\n",
    "    dt_wttune.loc[i, 'prec_zero'] = float(clf_sp[5])   \n",
    "    dt_wttune.loc[i, 'prec_one'] = float(clf_sp[10])   \n",
    "    dt_wttune.loc[i, 'prec_ovll'] = float(clf_sp[17])   \n",
    "    \n",
    "    dt_wttune.loc[i, 'recl_zero'] = float(clf_sp[6])   \n",
    "    dt_wttune.loc[i, 'recl_one'] = float(clf_sp[11])   \n",
    "    dt_wttune.loc[i, 'recl_ovll'] = float(clf_sp[18])\n",
    "    print (\"\\nClass Weights\",clwght,\"Train accuracy:\",round(accuracy_score(y_train,dt_fit.predict(x_train)),3),\"Test accuracy:\",round(accuracy_score(y_test,dt_fit.predict(x_test)),3))\n",
    "    print (\"Test Confusion Matrix\\n\\n\",pd.crosstab(y_test,dt_fit.predict(x_test),rownames = [\"Actuall\"],colnames = [\"Predicted\"]))      \n",
    "\n"
   ]
  },
  {
   "cell_type": "markdown",
   "metadata": {},
   "source": [
    "- From the preceding output, we can see that at class weight values of 0.3(for zero) and 0.7(for one) it is indentifying a\n",
    "higher number of attriters(25 out of 61) without compromising test accuracy 83.9% using decsion trees methodology:"
   ]
  },
  {
   "cell_type": "markdown",
   "metadata": {},
   "source": [
    "# Bagging Classifier"
   ]
  },
  {
   "cell_type": "markdown",
   "metadata": {},
   "source": [
    "- Decision Tree suffer from high variance.\n",
    "- Which means if we split the training data into two random parts separately and fit decision trees for each sample, the rules\n",
    "obtained would be very different.\n",
    "- Whereas low variance and high bias models, such as linear or ligistic regression, will produce similar results across both samples.\n",
    "- Bagging refers to bootstrap aggregation( repeated sampling with replacement and perform aggregation of results to be precise),\n",
    "which is genreal purpose methodology to reduce the variance of models."
   ]
  },
  {
   "cell_type": "markdown",
   "metadata": {},
   "source": [
    "- In bagging procedure, rows are sampled with selecting all columns/variables and fitting a individual trees for each sample.\n",
    "- Whereas, in random forest, both rows and columns would be sampled."
   ]
  },
  {
   "cell_type": "markdown",
   "metadata": {},
   "source": [
    "********************************************************************************************************************************"
   ]
  },
  {
   "cell_type": "markdown",
   "metadata": {},
   "source": [
    "- In the following code same HR data has been used for Bagging classifier in order to compare the results apple with apple with\n",
    "respect to decision treee"
   ]
  },
  {
   "cell_type": "code",
   "execution_count": 97,
   "metadata": {},
   "outputs": [],
   "source": [
    "from sklearn.tree import DecisionTreeClassifier\n",
    "from sklearn.ensemble import BaggingClassifier"
   ]
  },
  {
   "cell_type": "markdown",
   "metadata": {},
   "source": [
    "********************************************************************************************************************************"
   ]
  },
  {
   "cell_type": "markdown",
   "metadata": {},
   "source": [
    "- The base classifier used here is Decision Tree with the same parameters setting that we used in the decision tree example:"
   ]
  },
  {
   "cell_type": "markdown",
   "metadata": {},
   "source": [
    "----------------------------------------------------"
   ]
  },
  {
   "cell_type": "code",
   "execution_count": 98,
   "metadata": {},
   "outputs": [],
   "source": [
    "dt_fit = DecisionTreeClassifier(criterion=\"gini\",max_depth=5,min_impurity_split=2,min_samples_leaf=1,random_state=42,\n",
    "                               class_weight = {0:0.3,1:0.7})"
   ]
  },
  {
   "cell_type": "markdown",
   "metadata": {},
   "source": [
    "- Parameters used in Bagging is n_estimators to represent the number of individual decision trees used as 5000, maximum samples\n",
    "and features selected are 0.67 and 1.0 respectively, which means it will select 2/3 of observations for each tree and all the features\n",
    ".\n"
   ]
  },
  {
   "cell_type": "code",
   "execution_count": 99,
   "metadata": {},
   "outputs": [],
   "source": [
    "bag_fit = BaggingClassifier(base_estimator=dt_fit,n_estimators=5000,max_features=1.0,bootstrap=True,\n",
    "                           bootstrap_features=False, n_jobs = -1, random_state=42)"
   ]
  },
  {
   "cell_type": "code",
   "execution_count": 100,
   "metadata": {},
   "outputs": [
    {
     "data": {
      "text/plain": [
       "BaggingClassifier(base_estimator=DecisionTreeClassifier(class_weight={0: 0.3, 1: 0.7}, criterion='gini',\n",
       "            max_depth=5, max_features=None, max_leaf_nodes=None,\n",
       "            min_impurity_decrease=0.0, min_impurity_split=2,\n",
       "            min_samples_leaf=1, min_samples_split=2,\n",
       "            min_weight_fraction_leaf=0.0, presort=False, random_state=42,\n",
       "            splitter='best'),\n",
       "         bootstrap=True, bootstrap_features=False, max_features=1.0,\n",
       "         max_samples=1.0, n_estimators=5000, n_jobs=-1, oob_score=False,\n",
       "         random_state=42, verbose=0, warm_start=False)"
      ]
     },
     "execution_count": 100,
     "metadata": {},
     "output_type": "execute_result"
    }
   ],
   "source": [
    "bag_fit.fit(x_train,y_train)"
   ]
  },
  {
   "cell_type": "code",
   "execution_count": 104,
   "metadata": {},
   "outputs": [
    {
     "name": "stdout",
     "output_type": "stream",
     "text": [
      "\n",
      "Bagging - Train Confusion Matrix\n",
      "\n",
      " Predicted    0    1\n",
      "Actuall            \n",
      "0          846    7\n",
      "1           72  104\n",
      "\n",
      "Bagging- Train accuracy 0.923\n",
      "\n",
      "Bagging  - Train Classification Report\n",
      "              precision    recall  f1-score   support\n",
      "\n",
      "          0       0.92      0.99      0.96       853\n",
      "          1       0.94      0.59      0.72       176\n",
      "\n",
      "avg / total       0.92      0.92      0.92      1029\n",
      "\n",
      "\n",
      "\n",
      "Bagging - Test Confusion Matrix\n",
      "\n",
      " Predicted    0   1\n",
      "Actuall           \n",
      "0          372   8\n",
      "1           48  13\n",
      "\n",
      "Bagging - Test accuracy 0.873\n",
      "\n",
      "Bagging - Test Classification Report\n",
      "              precision    recall  f1-score   support\n",
      "\n",
      "          0       0.89      0.98      0.93       380\n",
      "          1       0.62      0.21      0.32        61\n",
      "\n",
      "avg / total       0.85      0.87      0.85       441\n",
      "\n"
     ]
    }
   ],
   "source": [
    "from sklearn.tree import DecisionTreeClassifier\n",
    "from sklearn.ensemble import BaggingClassifier\n",
    "\n",
    "dt_fit = DecisionTreeClassifier(criterion=\"gini\",max_depth=5,min_samples_split=2,min_samples_leaf=1,random_state=42,\n",
    "                                class_weight = {0:0.3,1:0.7})\n",
    "\n",
    "bag_fit = BaggingClassifier(base_estimator= dt_fit,n_estimators=5000,max_samples=0.67,max_features=1.0,\n",
    "                            bootstrap=True,bootstrap_features=True,n_jobs=-1,random_state=42)\n",
    "\n",
    "bag_fit.fit(x_train, y_train)\n",
    "\n",
    "print (\"\\nBagging - Train Confusion Matrix\\n\\n\",pd.crosstab(y_train,bag_fit.predict(x_train),rownames = [\"Actuall\"],colnames = [\"Predicted\"]))      \n",
    "print (\"\\nBagging- Train accuracy\",round(accuracy_score(y_train,bag_fit.predict(x_train)),3))\n",
    "print (\"\\nBagging  - Train Classification Report\\n\",classification_report(y_train,bag_fit.predict(x_train)))\n",
    "\n",
    "print (\"\\n\\nBagging - Test Confusion Matrix\\n\\n\",pd.crosstab(y_test,bag_fit.predict(x_test),rownames = [\"Actuall\"],colnames = [\"Predicted\"]))      \n",
    "print (\"\\nBagging - Test accuracy\",round(accuracy_score(y_test,bag_fit.predict(x_test)),3))\n",
    "print (\"\\nBagging - Test Classification Report\\n\",classification_report(y_test,bag_fit.predict(x_test)))\n"
   ]
  },
  {
   "cell_type": "markdown",
   "metadata": {},
   "source": [
    "- After analyzing the results from bagging, the test accuracy obtained was 87.3%, whereas for decision tree it was 84.6%.\n",
    "- Comparing the number of actual attrited employees identified, there were 13 in bagging, whereas in decision tree 12, but\n",
    "the number of 0 classified as 1 significantly reduced to 8 compared with 19 in decision tree.\n",
    "- Over all bagging improves performance over the single tree:"
   ]
  },
  {
   "cell_type": "markdown",
   "metadata": {},
   "source": [
    "# Random Forest Classifier"
   ]
  },
  {
   "cell_type": "markdown",
   "metadata": {},
   "source": [
    "- Random forest provide an improvement over bagging by doing a small tweak that utilizes de-correlectd trees.\n",
    "- In bagging, we build a number of decision tress on bootstrapped samples from traing data, but the one big drawback with\n",
    "bagging techniques is that it selectes all the variables.\n",
    "- By doing so , in each decision tree, order of candidate/variable chosen to split remians more or less the same for all the individual\n",
    "trees, which took correlated with each other.\n",
    "- Variaance reduction on correlated individual entites does not work effectively while aggregating them."
   ]
  },
  {
   "cell_type": "markdown",
   "metadata": {},
   "source": [
    "- In random forest duing bootstraping, samples were drawan from training data; not just simple the second and third observation randomley\n",
    "selcted, similar to bagging, but it also selctes the few predictores/columns out of all predictores."
   ]
  },
  {
   "cell_type": "markdown",
   "metadata": {},
   "source": [
    "*********************************************************************************************************************************"
   ]
  },
  {
   "cell_type": "code",
   "execution_count": 105,
   "metadata": {},
   "outputs": [],
   "source": [
    "#Random Forest Classifier\n",
    "\n",
    "from sklearn.ensemble import RandomForestClassifier"
   ]
  },
  {
   "cell_type": "markdown",
   "metadata": {},
   "source": [
    "- The parameters used in random forest are:\n",
    "    - n_estimators :- Representing the number of individual decision trees used is 5000,\n",
    "    - maximun features selcted are auto, which means it will select sqrt(p) for classification and p/3 for regression automatically\n",
    "    - Here is the straightforward classification problem though.\n",
    "    - minimum samples per leaf provides the minimum number of observation required in the terminal node"
   ]
  },
  {
   "cell_type": "code",
   "execution_count": 106,
   "metadata": {},
   "outputs": [],
   "source": [
    "rf_fit = RandomForestClassifier(n_estimators=5000, criterion=\"gini\",max_depth=5,min_impurity_split=2,\n",
    "                               bootstrap=True,max_features='auto',random_state=42,min_samples_leaf=1,\n",
    "                               class_weight = {0:0.3,1:0.7})"
   ]
  },
  {
   "cell_type": "code",
   "execution_count": 128,
   "metadata": {},
   "outputs": [],
   "source": [
    "#rf_fit.fit(x_train,y_train)"
   ]
  },
  {
   "cell_type": "code",
   "execution_count": 110,
   "metadata": {},
   "outputs": [
    {
     "name": "stdout",
     "output_type": "stream",
     "text": [
      "\n",
      "Random Forest - Train Confusion Matrix\n",
      "\n",
      " Predicted    0\n",
      "Actuall       \n",
      "0          853\n",
      "1          176\n",
      "\n",
      "Random Forest - Train accuracy 0.829\n"
     ]
    },
    {
     "name": "stderr",
     "output_type": "stream",
     "text": [
      "C:\\ProgramData\\Anaconda3\\lib\\site-packages\\sklearn\\metrics\\classification.py:1135: UndefinedMetricWarning: Precision and F-score are ill-defined and being set to 0.0 in labels with no predicted samples.\n",
      "  'precision', 'predicted', average, warn_for)\n"
     ]
    },
    {
     "name": "stdout",
     "output_type": "stream",
     "text": [
      "\n",
      "Random Forest  - Train Classification Report\n",
      "              precision    recall  f1-score   support\n",
      "\n",
      "          0       0.83      1.00      0.91       853\n",
      "          1       0.00      0.00      0.00       176\n",
      "\n",
      "avg / total       0.69      0.83      0.75      1029\n",
      "\n",
      "\n",
      "\n",
      "Random Forest - Test Confusion Matrix\n",
      "\n",
      " Predicted    0\n",
      "Actuall       \n",
      "0          380\n",
      "1           61\n",
      "\n",
      "Random Forest - Test accuracy 0.862\n",
      "\n",
      "Random Forest - Test Classification Report\n",
      "              precision    recall  f1-score   support\n",
      "\n",
      "          0       0.86      1.00      0.93       380\n",
      "          1       0.00      0.00      0.00        61\n",
      "\n",
      "avg / total       0.74      0.86      0.80       441\n",
      "\n"
     ]
    }
   ],
   "source": [
    "print (\"\\nRandom Forest - Train Confusion Matrix\\n\\n\",pd.crosstab(y_train,rf_fit.predict(x_train),rownames = [\"Actuall\"],colnames = [\"Predicted\"]))      \n",
    "print (\"\\nRandom Forest - Train accuracy\",round(accuracy_score(y_train,rf_fit.predict(x_train)),3))\n",
    "print (\"\\nRandom Forest  - Train Classification Report\\n\",classification_report(y_train,rf_fit.predict(x_train)))\n",
    "\n",
    "print (\"\\n\\nRandom Forest - Test Confusion Matrix\\n\\n\",pd.crosstab(y_test,rf_fit.predict(x_test),rownames = [\"Actuall\"],colnames = [\"Predicted\"]))      \n",
    "print (\"\\nRandom Forest - Test accuracy\",round(accuracy_score(y_test,rf_fit.predict(x_test)),3))\n",
    "print (\"\\nRandom Forest - Test Classification Report\\n\",classification_report(y_test,rf_fit.predict(x_test)))\n",
    "\n"
   ]
  },
  {
   "cell_type": "markdown",
   "metadata": {},
   "source": [
    "- Random Forest classifier produced 87.8 % test accuracy compared with bagging 87.3% and also\n",
    "indentifies 14 actually attrited employeee in contrast with bagging for which 13 attrited employee have been identified."
   ]
  },
  {
   "cell_type": "markdown",
   "metadata": {},
   "source": [
    "# Plot of Variable importance by mean decrease in gini"
   ]
  },
  {
   "cell_type": "code",
   "execution_count": 113,
   "metadata": {},
   "outputs": [
    {
     "data": {
      "image/png": "[encoded data removed]",
      "text/plain": [
       "<Figure size 1440x720 with 1 Axes>"
      ]
     },
     "metadata": {},
     "output_type": "display_data"
    }
   ],
   "source": [
    "model_ranks = pd.Series(rf_fit.feature_importances_,index=x_train.columns, name='Importance').sort_values(ascending=False, inplace=False)\n",
    "model_ranks.index.name = 'Variables'\n",
    "top_features = model_ranks.iloc[:31].sort_values(ascending=True,inplace=False)\n",
    "plt.figure(figsize=(20,10))\n",
    "ax = top_features.plot(kind='barh')\n",
    "_ = ax.set_title(\"Variable Importance Plot\")\n",
    "_ = ax.set_xlabel('Mean decrease in Variance')\n",
    "_ = ax.set_yticklabels(top_features.index, fontsize=13)\n",
    "\n",
    "\n",
    "\n",
    "\n"
   ]
  },
  {
   "cell_type": "markdown",
   "metadata": {},
   "source": [
    "- From the variable importance plot, it seems that the Worklifebalance variable seems to be most significant, followed by .\n",
    "- This provides us some nisight into what are major contributing factors that determine whether the employee will ramain with the\n",
    "company or leave the organization.\n"
   ]
  },
  {
   "cell_type": "markdown",
   "metadata": {},
   "source": [
    "# Random Forest Classifier- Grid Search\n",
    "\n",
    "-  Tuning parameters in machine learning is plays a critical role.\n",
    "- Here we showing the grid search example on how to tune a random forest method.\n"
   ]
  },
  {
   "cell_type": "markdown",
   "metadata": {},
   "source": [
    "- Tuning paramter are similar to random forest parameters apart from verifying all the combinations to be evaluted will be\n",
    "(3*3*2*2)*5=36*5=180 combinations.\n",
    "- Here 5 is used in the end, due to the cross validation of five fold."
   ]
  },
  {
   "cell_type": "code",
   "execution_count": 119,
   "metadata": {},
   "outputs": [
    {
     "name": "stdout",
     "output_type": "stream",
     "text": [
      "Fitting 5 folds for each of 36 candidates, totalling 180 fits\n"
     ]
    },
    {
     "name": "stderr",
     "output_type": "stream",
     "text": [
      "[Parallel(n_jobs=-1)]: Done  42 tasks      | elapsed:  3.9min\n",
      "[Parallel(n_jobs=-1)]: Done 180 out of 180 | elapsed: 15.4min finished\n"
     ]
    },
    {
     "name": "stdout",
     "output_type": "stream",
     "text": [
      "Best Training score: 0.868\n",
      "Best parameters set:\n",
      "\tclf__max_depth: 5\n",
      "\tclf__min_samples_leaf: 1\n",
      "\tclf__min_samples_split: 3\n",
      "\tclf__n_estimators: 5000\n",
      "Testing accuracy: 0.873\n",
      "\n",
      "Complete report of Testing data\n",
      "              precision    recall  f1-score   support\n",
      "\n",
      "          0       0.88      0.98      0.93       380\n",
      "          1       0.63      0.20      0.30        61\n",
      "\n",
      "avg / total       0.85      0.87      0.84       441\n",
      "\n",
      "\n",
      "\n",
      "Random Forest Grid Search- Test Confusion Matrix\n",
      "\n",
      " Predicted    0   1\n",
      "Actuall           \n",
      "0          373   7\n",
      "1           49  12\n"
     ]
    }
   ],
   "source": [
    "from sklearn.pipeline import Pipeline\n",
    "from sklearn.model_selection import train_test_split,GridSearchCV\n",
    "\n",
    "pipeline = Pipeline([\n",
    "        ('clf',RandomForestClassifier(criterion='gini',class_weight = {0:0.3,1:0.7}))])\n",
    "\n",
    "parameters = {\n",
    "        'clf__n_estimators':(2000,3000,5000),\n",
    "        'clf__max_depth':(5,15,30),\n",
    "        'clf__min_samples_split':(2,3),\n",
    "        'clf__min_samples_leaf':(1,2)  }\n",
    "\n",
    "grid_search = GridSearchCV(pipeline,parameters,n_jobs=-1,cv=5,verbose=1,scoring='accuracy')\n",
    "grid_search.fit(x_train,y_train)\n",
    "\n",
    "print ('Best Training score: %0.3f' % grid_search.best_score_)\n",
    "print ('Best parameters set:')\n",
    "best_parameters = grid_search.best_estimator_.get_params()\n",
    "for param_name in sorted(parameters.keys()):\n",
    "    print ('\\t%s: %r' % (param_name, best_parameters[param_name]))\n",
    "\n",
    "predictions = grid_search.predict(x_test)\n",
    "\n",
    "print (\"Testing accuracy:\",round(accuracy_score(y_test, predictions),4))\n",
    "print (\"\\nComplete report of Testing data\\n\",classification_report(y_test, predictions))\n",
    "print (\"\\n\\nRandom Forest Grid Search- Test Confusion Matrix\\n\\n\",pd.crosstab(y_test, predictions,rownames = [\"Actuall\"],colnames = [\"Predicted\"]))      \n",
    "\n",
    "\n"
   ]
  },
  {
   "cell_type": "markdown",
   "metadata": {},
   "source": [
    "# AdaBoost Classifier"
   ]
  },
  {
   "cell_type": "markdown",
   "metadata": {},
   "source": [
    "- Boosting is the anothet state pf art model that is being used by many data scientists to win so many competitions.\n",
    "- In this section we will covering the Adaboost algorithm, followed by gradient boost and extreme gradient boost(XGBoost).\n",
    "- Boosting is a general apporch that can applied to many statistical models.\n",
    "- In bagging, we have taken multiple samples from the traing data and then combined the resultes of individual trees to create\n",
    " a single prediction model; this methos runs in parallel, as each boostrap samples does not depends on others.\n",
    "- Boosting workers in sequential manner and does not onvolve bootstrap sampling; instead, each tree is fitted in the modified\n",
    " version of an original datasets and finally added up to create a strong classifier."
   ]
  },
  {
   "cell_type": "markdown",
   "metadata": {},
   "source": [
    "- Iteration 1:- \n",
    "                Initially, a simple classifier has been fitted on the data, also called as Decision Stump, which split the data into two regions and whatever the classes correctly classified will be given less weightage in the next iteration.\n",
    "------------------------------------------------------------------------------------------------------------------------------\n",
    "- Iteration 2:-\n",
    "                Higher weightage for misclassified classes, and again another decision stump/weak classifier will be fitted on the data and will change the weight again for the next itreation.\n",
    "-------------------------------------------------------------------------------------------------------------------------------\n",
    "- Iteration 3:-\n",
    "                Once it finishes the iterations, these are combined with weights( weights automatically calculated for each\n",
    "classifier at each iteration based on error rate), to come with strong classifir, which predictes the classes with surprising accuracy."
   ]
  },
  {
   "cell_type": "markdown",
   "metadata": {},
   "source": [
    "- In Bagging and random forest algorithms, we deal with the columns of the data; whereas, in boosting, we adjust the weights of each\n",
    "observations and dont elect a few columns."
   ]
  },
  {
   "cell_type": "markdown",
   "metadata": {},
   "source": [
    "*****************************************************************************************************************************\n",
    "Higher weights will be given for the model with fewer errors."
   ]
  },
  {
   "cell_type": "code",
   "execution_count": 121,
   "metadata": {},
   "outputs": [],
   "source": [
    "from sklearn.tree import DecisionTreeClassifier\n",
    "from sklearn.ensemble import AdaBoostClassifier"
   ]
  },
  {
   "cell_type": "markdown",
   "metadata": {},
   "source": [
    "Deciosion Stump is used as base classifier for AdaBoost. If we observer the following code, the depth of the treee remaines as 1,\n",
    "which has the decision taking ability only once also considered a weak classifier."
   ]
  },
  {
   "cell_type": "markdown",
   "metadata": {},
   "source": [
    "- In AdaBoost, decision stump has been used as a base estimator to fit on whole dataset and then fits additional copies of the classifier\n",
    " on the same dataset up to 5000 times.\n",
    "- The learning rate shrinks the contribution of each classifier by 0.05.\n"
   ]
  },
  {
   "cell_type": "code",
   "execution_count": 127,
   "metadata": {},
   "outputs": [
    {
     "name": "stdout",
     "output_type": "stream",
     "text": [
      "\n",
      "AdaBoost - Train Confusion Matrix\n",
      "\n",
      " Predicted    0    1\n",
      "Actuall            \n",
      "0          844    9\n",
      "1           55  121\n",
      "\n",
      "AdaBoost  - Train accuracy 0.938\n",
      "\n",
      "AdaBoost  - Train Classification Report\n",
      "              precision    recall  f1-score   support\n",
      "\n",
      "          0       0.94      0.99      0.96       853\n",
      "          1       0.93      0.69      0.79       176\n",
      "\n",
      "avg / total       0.94      0.94      0.93      1029\n",
      "\n",
      "\n",
      "\n",
      "AdaBoost  - Test Confusion Matrix\n",
      "\n",
      " Predicted    0   1\n",
      "Actuall           \n",
      "0          360  20\n",
      "1           38  23\n",
      "\n",
      "AdaBoost  - Test accuracy 0.868\n",
      "\n",
      "AdaBoost - Test Classification Report\n",
      "              precision    recall  f1-score   support\n",
      "\n",
      "          0       0.90      0.95      0.93       380\n",
      "          1       0.53      0.38      0.44        61\n",
      "\n",
      "avg / total       0.85      0.87      0.86       441\n",
      "\n"
     ]
    }
   ],
   "source": [
    "from sklearn.tree import DecisionTreeClassifier\n",
    "from sklearn.ensemble import AdaBoostClassifier\n",
    "dtree = DecisionTreeClassifier(criterion='gini',max_depth=1)\n",
    "\n",
    "adabst_fit = AdaBoostClassifier(base_estimator= dtree,\n",
    "        n_estimators=5000,learning_rate=0.05,random_state=42)\n",
    "\n",
    "adabst_fit.fit(x_train, y_train)\n",
    "\n",
    "print (\"\\nAdaBoost - Train Confusion Matrix\\n\\n\",pd.crosstab(y_train,adabst_fit.predict(x_train),rownames = [\"Actuall\"],colnames = [\"Predicted\"]))      \n",
    "print (\"\\nAdaBoost  - Train accuracy\",round(accuracy_score(y_train,adabst_fit.predict(x_train)),3))\n",
    "print (\"\\nAdaBoost  - Train Classification Report\\n\",classification_report(y_train,adabst_fit.predict(x_train)))\n",
    "\n",
    "print (\"\\n\\nAdaBoost  - Test Confusion Matrix\\n\\n\",pd.crosstab(y_test,adabst_fit.predict(x_test),rownames = [\"Actuall\"],colnames = [\"Predicted\"]))      \n",
    "print (\"\\nAdaBoost  - Test accuracy\",round(accuracy_score(y_test,adabst_fit.predict(x_test)),3))\n",
    "print (\"\\nAdaBoost - Test Classification Report\\n\",classification_report(y_test,adabst_fit.predict(x_test)))\n",
    "\n"
   ]
  },
  {
   "cell_type": "markdown",
   "metadata": {},
   "source": [
    "The result of the AdaBoost seems to be much better than the know best random forest classifiers in terms of the recall\n",
    "of 1 value.\n",
    "Though there is slight decrease in accuracy to 86.6% to compared with the best accuracy 87.8%, the number of 1s predicted is 23 from the RF,\n",
    "which is 14 with same expences of increase in 0s, but it really made good progress in terms of indentifying actual attriters."
   ]
  },
  {
   "cell_type": "markdown",
   "metadata": {},
   "source": [
    "# Gradient Boosting Classifiers"
   ]
  },
  {
   "cell_type": "code",
   "execution_count": null,
   "metadata": {},
   "outputs": [],
   "source": []
  },
  {
   "cell_type": "code",
   "execution_count": 1,
   "metadata": {},
   "outputs": [
    {
     "ename": "KeyboardInterrupt",
     "evalue": "",
     "output_type": "error",
     "traceback": [
      "\u001b[1;31m---------------------------------------------------------------------------\u001b[0m",
      "\u001b[1;31mKeyboardInterrupt\u001b[0m                         Traceback (most recent call last)",
      "\u001b[1;32m<ipython-input-1-ccd934e1d963>\u001b[0m in \u001b[0;36m<module>\u001b[1;34m()\u001b[0m\n\u001b[0;32m      1\u001b[0m \u001b[1;31m# Gradientboost Classifier\u001b[0m\u001b[1;33m\u001b[0m\u001b[1;33m\u001b[0m\u001b[0m\n\u001b[1;32m----> 2\u001b[1;33m \u001b[1;32mfrom\u001b[0m \u001b[0msklearn\u001b[0m\u001b[1;33m.\u001b[0m\u001b[0mensemble\u001b[0m \u001b[1;32mimport\u001b[0m \u001b[0mGradientBoostingClassifier\u001b[0m\u001b[1;33m\u001b[0m\u001b[0m\n\u001b[0m\u001b[0;32m      3\u001b[0m \u001b[1;33m\u001b[0m\u001b[0m\n\u001b[0;32m      4\u001b[0m gbc_fit = GradientBoostingClassifier(loss='deviance',learning_rate=0.05,n_estimators=5000,\n\u001b[0;32m      5\u001b[0m                                      min_samples_split=2,min_samples_leaf=1,max_depth=1,random_state=42 )\n",
      "\u001b[1;32mC:\\ProgramData\\Anaconda3\\lib\\site-packages\\sklearn\\ensemble\\__init__.py\u001b[0m in \u001b[0;36m<module>\u001b[1;34m()\u001b[0m\n\u001b[0;32m      5\u001b[0m \u001b[1;33m\u001b[0m\u001b[0m\n\u001b[0;32m      6\u001b[0m \u001b[1;32mfrom\u001b[0m \u001b[1;33m.\u001b[0m\u001b[0mbase\u001b[0m \u001b[1;32mimport\u001b[0m \u001b[0mBaseEnsemble\u001b[0m\u001b[1;33m\u001b[0m\u001b[0m\n\u001b[1;32m----> 7\u001b[1;33m \u001b[1;32mfrom\u001b[0m \u001b[1;33m.\u001b[0m\u001b[0mforest\u001b[0m \u001b[1;32mimport\u001b[0m \u001b[0mRandomForestClassifier\u001b[0m\u001b[1;33m\u001b[0m\u001b[0m\n\u001b[0m\u001b[0;32m      8\u001b[0m \u001b[1;32mfrom\u001b[0m \u001b[1;33m.\u001b[0m\u001b[0mforest\u001b[0m \u001b[1;32mimport\u001b[0m \u001b[0mRandomForestRegressor\u001b[0m\u001b[1;33m\u001b[0m\u001b[0m\n\u001b[0;32m      9\u001b[0m \u001b[1;32mfrom\u001b[0m \u001b[1;33m.\u001b[0m\u001b[0mforest\u001b[0m \u001b[1;32mimport\u001b[0m \u001b[0mRandomTreesEmbedding\u001b[0m\u001b[1;33m\u001b[0m\u001b[0m\n",
      "\u001b[1;32mC:\\ProgramData\\Anaconda3\\lib\\site-packages\\sklearn\\ensemble\\forest.py\u001b[0m in \u001b[0;36m<module>\u001b[1;34m()\u001b[0m\n\u001b[0;32m     55\u001b[0m \u001b[1;32mfrom\u001b[0m \u001b[1;33m.\u001b[0m\u001b[1;33m.\u001b[0m\u001b[0mexternals\u001b[0m\u001b[1;33m.\u001b[0m\u001b[0mjoblib\u001b[0m \u001b[1;32mimport\u001b[0m \u001b[0mParallel\u001b[0m\u001b[1;33m,\u001b[0m \u001b[0mdelayed\u001b[0m\u001b[1;33m\u001b[0m\u001b[0m\n\u001b[0;32m     56\u001b[0m \u001b[1;32mfrom\u001b[0m \u001b[1;33m.\u001b[0m\u001b[1;33m.\u001b[0m\u001b[0mexternals\u001b[0m \u001b[1;32mimport\u001b[0m \u001b[0msix\u001b[0m\u001b[1;33m\u001b[0m\u001b[0m\n\u001b[1;32m---> 57\u001b[1;33m \u001b[1;32mfrom\u001b[0m \u001b[1;33m.\u001b[0m\u001b[1;33m.\u001b[0m\u001b[0mmetrics\u001b[0m \u001b[1;32mimport\u001b[0m \u001b[0mr2_score\u001b[0m\u001b[1;33m\u001b[0m\u001b[0m\n\u001b[0m\u001b[0;32m     58\u001b[0m \u001b[1;32mfrom\u001b[0m \u001b[1;33m.\u001b[0m\u001b[1;33m.\u001b[0m\u001b[0mpreprocessing\u001b[0m \u001b[1;32mimport\u001b[0m \u001b[0mOneHotEncoder\u001b[0m\u001b[1;33m\u001b[0m\u001b[0m\n\u001b[0;32m     59\u001b[0m from ..tree import (DecisionTreeClassifier, DecisionTreeRegressor,\n",
      "\u001b[1;32mC:\\ProgramData\\Anaconda3\\lib\\site-packages\\sklearn\\metrics\\__init__.py\u001b[0m in \u001b[0;36m<module>\u001b[1;34m()\u001b[0m\n\u001b[0;32m      5\u001b[0m \u001b[1;33m\u001b[0m\u001b[0m\n\u001b[0;32m      6\u001b[0m \u001b[1;33m\u001b[0m\u001b[0m\n\u001b[1;32m----> 7\u001b[1;33m \u001b[1;32mfrom\u001b[0m \u001b[1;33m.\u001b[0m\u001b[0mranking\u001b[0m \u001b[1;32mimport\u001b[0m \u001b[0mauc\u001b[0m\u001b[1;33m\u001b[0m\u001b[0m\n\u001b[0m\u001b[0;32m      8\u001b[0m \u001b[1;32mfrom\u001b[0m \u001b[1;33m.\u001b[0m\u001b[0mranking\u001b[0m \u001b[1;32mimport\u001b[0m \u001b[0maverage_precision_score\u001b[0m\u001b[1;33m\u001b[0m\u001b[0m\n\u001b[0;32m      9\u001b[0m \u001b[1;32mfrom\u001b[0m \u001b[1;33m.\u001b[0m\u001b[0mranking\u001b[0m \u001b[1;32mimport\u001b[0m \u001b[0mcoverage_error\u001b[0m\u001b[1;33m\u001b[0m\u001b[0m\n",
      "\u001b[1;32mC:\\ProgramData\\Anaconda3\\lib\\site-packages\\sklearn\\metrics\\ranking.py\u001b[0m in \u001b[0;36m<module>\u001b[1;34m()\u001b[0m\n\u001b[0;32m     23\u001b[0m \u001b[1;32mimport\u001b[0m \u001b[0mnumpy\u001b[0m \u001b[1;32mas\u001b[0m \u001b[0mnp\u001b[0m\u001b[1;33m\u001b[0m\u001b[0m\n\u001b[0;32m     24\u001b[0m \u001b[1;32mfrom\u001b[0m \u001b[0mscipy\u001b[0m\u001b[1;33m.\u001b[0m\u001b[0msparse\u001b[0m \u001b[1;32mimport\u001b[0m \u001b[0mcsr_matrix\u001b[0m\u001b[1;33m\u001b[0m\u001b[0m\n\u001b[1;32m---> 25\u001b[1;33m \u001b[1;32mfrom\u001b[0m \u001b[0mscipy\u001b[0m\u001b[1;33m.\u001b[0m\u001b[0mstats\u001b[0m \u001b[1;32mimport\u001b[0m \u001b[0mrankdata\u001b[0m\u001b[1;33m\u001b[0m\u001b[0m\n\u001b[0m\u001b[0;32m     26\u001b[0m \u001b[1;33m\u001b[0m\u001b[0m\n\u001b[0;32m     27\u001b[0m \u001b[1;32mfrom\u001b[0m \u001b[1;33m.\u001b[0m\u001b[1;33m.\u001b[0m\u001b[0mutils\u001b[0m \u001b[1;32mimport\u001b[0m \u001b[0massert_all_finite\u001b[0m\u001b[1;33m\u001b[0m\u001b[0m\n",
      "\u001b[1;32mC:\\ProgramData\\Anaconda3\\lib\\site-packages\\scipy\\stats\\__init__.py\u001b[0m in \u001b[0;36m<module>\u001b[1;34m()\u001b[0m\n\u001b[0;32m    343\u001b[0m \u001b[1;32mfrom\u001b[0m \u001b[0m__future__\u001b[0m \u001b[1;32mimport\u001b[0m \u001b[0mdivision\u001b[0m\u001b[1;33m,\u001b[0m \u001b[0mprint_function\u001b[0m\u001b[1;33m,\u001b[0m \u001b[0mabsolute_import\u001b[0m\u001b[1;33m\u001b[0m\u001b[0m\n\u001b[0;32m    344\u001b[0m \u001b[1;33m\u001b[0m\u001b[0m\n\u001b[1;32m--> 345\u001b[1;33m \u001b[1;32mfrom\u001b[0m \u001b[1;33m.\u001b[0m\u001b[0mstats\u001b[0m \u001b[1;32mimport\u001b[0m \u001b[1;33m*\u001b[0m\u001b[1;33m\u001b[0m\u001b[0m\n\u001b[0m\u001b[0;32m    346\u001b[0m \u001b[1;32mfrom\u001b[0m \u001b[1;33m.\u001b[0m\u001b[0mdistributions\u001b[0m \u001b[1;32mimport\u001b[0m \u001b[1;33m*\u001b[0m\u001b[1;33m\u001b[0m\u001b[0m\n\u001b[0;32m    347\u001b[0m \u001b[1;32mfrom\u001b[0m \u001b[1;33m.\u001b[0m\u001b[0mmorestats\u001b[0m \u001b[1;32mimport\u001b[0m \u001b[1;33m*\u001b[0m\u001b[1;33m\u001b[0m\u001b[0m\n",
      "\u001b[1;32mC:\\ProgramData\\Anaconda3\\lib\\importlib\\_bootstrap.py\u001b[0m in \u001b[0;36m_find_and_load\u001b[1;34m(name, import_)\u001b[0m\n",
      "\u001b[1;32mC:\\ProgramData\\Anaconda3\\lib\\importlib\\_bootstrap.py\u001b[0m in \u001b[0;36m_find_and_load_unlocked\u001b[1;34m(name, import_)\u001b[0m\n",
      "\u001b[1;32mC:\\ProgramData\\Anaconda3\\lib\\importlib\\_bootstrap.py\u001b[0m in \u001b[0;36m_load_unlocked\u001b[1;34m(spec)\u001b[0m\n",
      "\u001b[1;32mC:\\ProgramData\\Anaconda3\\lib\\importlib\\_bootstrap_external.py\u001b[0m in \u001b[0;36mexec_module\u001b[1;34m(self, module)\u001b[0m\n",
      "\u001b[1;32mC:\\ProgramData\\Anaconda3\\lib\\importlib\\_bootstrap_external.py\u001b[0m in \u001b[0;36mget_code\u001b[1;34m(self, fullname)\u001b[0m\n",
      "\u001b[1;32mC:\\ProgramData\\Anaconda3\\lib\\importlib\\_bootstrap_external.py\u001b[0m in \u001b[0;36mget_data\u001b[1;34m(self, path)\u001b[0m\n",
      "\u001b[1;31mKeyboardInterrupt\u001b[0m: "
     ]
    }
   ],
   "source": [
    "# Gradientboost Classifier\n",
    "from sklearn.ensemble import GradientBoostingClassifier\n",
    "\n",
    "gbc_fit = GradientBoostingClassifier(loss='deviance',learning_rate=0.05,n_estimators=5000,\n",
    "                                     min_samples_split=2,min_samples_leaf=1,max_depth=1,random_state=42 )\n",
    "gbc_fit.fit(x_train,y_train)\n",
    "\n",
    "print (\"\\nGradient Boost - Train Confusion Matrix\\n\\n\",pd.crosstab(y_train,gbc_fit.predict(x_train),rownames = [\"Actuall\"],colnames = [\"Predicted\"]))      \n",
    "print (\"\\nGradient Boost - Train accuracy\",round(accuracy_score(y_train,gbc_fit.predict(x_train)),3))\n",
    "print (\"\\nGradient Boost  - Train Classification Report\\n\",classification_report(y_train,gbc_fit.predict(x_train)))\n",
    "\n",
    "print (\"\\n\\nGradient Boost - Test Confusion Matrix\\n\\n\",pd.crosstab(y_test,gbc_fit.predict(x_test),rownames = [\"Actuall\"],colnames = [\"Predicted\"]))      \n",
    "print (\"\\nGradient Boost - Test accuracy\",round(accuracy_score(y_test,gbc_fit.predict(x_test)),3))\n",
    "print (\"\\nGradient Boost - Test Classification Report\\n\",classification_report(y_test,gbc_fit.predict(x_test)))\n",
    "\n"
   ]
  },
  {
   "cell_type": "markdown",
   "metadata": {},
   "source": [
    "# Ensemble of ensembles with samples using a single type of classifier"
   ]
  },
  {
   "cell_type": "markdown",
   "metadata": {},
   "source": [
    "XGBoost is the new algorithm developed in 2014 by tianqi Chen based on Gradient Boosting principles. it has created storm in the data science\n",
    "community since its inception. XGBoost has been developed with deep consideration in terms of system optimazation and principles in machine learning.\n",
    "The goal of library is to push the extremes of the computaion limits of machine to provide scalable, portable, and accurate results."
   ]
  },
  {
   "cell_type": "code",
   "execution_count": 5,
   "metadata": {},
   "outputs": [],
   "source": [
    "from sklearn.tree import DecisionTreeClassifier\n",
    "from sklearn.ensemble import BaggingClassifier\n",
    "from sklearn.ensemble import AdaBoostClassifier"
   ]
  },
  {
   "cell_type": "code",
   "execution_count": 26,
   "metadata": {},
   "outputs": [],
   "source": [
    "clwght = {0:0.3,1:0.7}"
   ]
  },
  {
   "cell_type": "code",
   "execution_count": 27,
   "metadata": {},
   "outputs": [],
   "source": [
    "eoe_dtree = DecisionTreeClassifier(criterion='gini',max_depth=1,class_weight=clwght)"
   ]
  },
  {
   "cell_type": "markdown",
   "metadata": {},
   "source": [
    "Eech AdaBoost classifier consist of 500 decision trees with learning rate of 0.5."
   ]
  },
  {
   "cell_type": "code",
   "execution_count": 28,
   "metadata": {},
   "outputs": [],
   "source": [
    "eoe_adabst_fit = AdaBoostClassifier(base_estimator=eoe_dtree,n_estimators=500,learning_rate=0.5,random_state=42)"
   ]
  },
  {
   "cell_type": "code",
   "execution_count": 29,
   "metadata": {},
   "outputs": [
    {
     "data": {
      "text/plain": [
       "AdaBoostClassifier(algorithm='SAMME.R',\n",
       "          base_estimator=DecisionTreeClassifier(class_weight={0: 0.3, 1: 0.7}, criterion='gini',\n",
       "            max_depth=1, max_features=None, max_leaf_nodes=None,\n",
       "            min_impurity_decrease=0.0, min_impurity_split=None,\n",
       "            min_samples_leaf=1, min_samples_split=2,\n",
       "            min_weight_fraction_leaf=0.0, presort=False, random_state=None,\n",
       "            splitter='best'),\n",
       "          learning_rate=0.5, n_estimators=500, random_state=42)"
      ]
     },
     "execution_count": 29,
     "metadata": {},
     "output_type": "execute_result"
    }
   ],
   "source": [
    "eoe_adabst_fit.fit(x_train,y_train)"
   ]
  },
  {
   "cell_type": "code",
   "execution_count": 17,
   "metadata": {},
   "outputs": [
    {
     "name": "stdout",
     "output_type": "stream",
     "text": [
      "\n",
      "AdaBoost - Train Confusion Matrix\n",
      "\n",
      " Predicted    0    1\n",
      "Actuall            \n",
      "0          806   47\n",
      "1           63  113\n",
      "\n",
      "AdaBoost - Train accuracy 0.893\n",
      "\n",
      "AdaBoost  - Train Classification Report\n",
      "              precision    recall  f1-score   support\n",
      "\n",
      "          0       0.93      0.94      0.94       853\n",
      "          1       0.71      0.64      0.67       176\n",
      "\n",
      "avg / total       0.89      0.89      0.89      1029\n",
      "\n",
      "\n",
      "\n",
      "AdaBoost - Test Confusion Matrix\n",
      "\n",
      " Predicted    0   1\n",
      "Actuall           \n",
      "0          349  31\n",
      "1           34  27\n",
      "\n",
      "AdaBoost - Test accuracy 0.853\n",
      "\n",
      "AdaBoost - Test Classification Report\n",
      "              precision    recall  f1-score   support\n",
      "\n",
      "          0       0.91      0.92      0.91       380\n",
      "          1       0.47      0.44      0.45        61\n",
      "\n",
      "avg / total       0.85      0.85      0.85       441\n",
      "\n",
      "\n",
      "Ensemble of AdaBoost - Train Confusion Matrix\n",
      "\n",
      " Predicted    0    1\n",
      "Actuall            \n",
      "0          824   29\n",
      "1           69  107\n",
      "\n",
      "Ensemble of AdaBoost - Train accuracy 0.905\n",
      "\n",
      "Ensemble of AdaBoost  - Train Classification Report\n",
      "              precision    recall  f1-score   support\n",
      "\n",
      "          0       0.92      0.97      0.94       853\n",
      "          1       0.79      0.61      0.69       176\n",
      "\n",
      "avg / total       0.90      0.90      0.90      1029\n",
      "\n",
      "\n",
      "\n",
      "Ensemble of AdaBoost - Test Confusion Matrix\n",
      "\n",
      " Predicted    0   1\n",
      "Actuall           \n",
      "0          359  21\n",
      "1           36  25\n",
      "\n",
      "Ensemble of AdaBoost - Test accuracy 0.871\n",
      "\n",
      "Ensemble of AdaBoost - Test Classification Report\n",
      "              precision    recall  f1-score   support\n",
      "\n",
      "          0       0.91      0.94      0.93       380\n",
      "          1       0.54      0.41      0.47        61\n",
      "\n",
      "avg / total       0.86      0.87      0.86       441\n",
      "\n"
     ]
    }
   ],
   "source": [
    "from sklearn.tree import DecisionTreeClassifier\n",
    "from sklearn.ensemble import BaggingClassifier\n",
    "from sklearn.ensemble import AdaBoostClassifier\n",
    "\n",
    "clwght = {0:0.3,1:0.7}\n",
    "\n",
    "eoe_dtree = DecisionTreeClassifier(criterion='gini',max_depth=1,class_weight = clwght)\n",
    "eoe_adabst_fit = AdaBoostClassifier(base_estimator= eoe_dtree,\n",
    "        n_estimators=500,learning_rate=0.05,random_state=42)\n",
    "eoe_adabst_fit.fit(x_train, y_train)\n",
    "\n",
    "print (\"\\nAdaBoost - Train Confusion Matrix\\n\\n\",pd.crosstab(y_train,eoe_adabst_fit.predict(x_train),rownames = [\"Actuall\"],colnames = [\"Predicted\"]))      \n",
    "print (\"\\nAdaBoost - Train accuracy\",round(accuracy_score(y_train,eoe_adabst_fit.predict(x_train)),3))\n",
    "print (\"\\nAdaBoost  - Train Classification Report\\n\",classification_report(y_train,eoe_adabst_fit.predict(x_train)))\n",
    "\n",
    "print (\"\\n\\nAdaBoost - Test Confusion Matrix\\n\\n\",pd.crosstab(y_test,eoe_adabst_fit.predict(x_test),rownames = [\"Actuall\"],colnames = [\"Predicted\"]))      \n",
    "print (\"\\nAdaBoost - Test accuracy\",round(accuracy_score(y_test,eoe_adabst_fit.predict(x_test)),3))\n",
    "print (\"\\nAdaBoost - Test Classification Report\\n\",classification_report(y_test,eoe_adabst_fit.predict(x_test)))\n",
    "\n",
    "\n",
    "bag_fit = BaggingClassifier(base_estimator= eoe_adabst_fit,n_estimators=50,\n",
    "                            max_samples=1.0,max_features=1.0,\n",
    "                            bootstrap=True,\n",
    "                            bootstrap_features=False,\n",
    "                            n_jobs=-1,\n",
    "                            random_state=42)\n",
    "\n",
    "bag_fit.fit(x_train, y_train)\n",
    "\n",
    "print (\"\\nEnsemble of AdaBoost - Train Confusion Matrix\\n\\n\",pd.crosstab(y_train,bag_fit.predict(x_train),rownames = [\"Actuall\"],colnames = [\"Predicted\"]))      \n",
    "print (\"\\nEnsemble of AdaBoost - Train accuracy\",round(accuracy_score(y_train,bag_fit.predict(x_train)),3))\n",
    "print (\"\\nEnsemble of AdaBoost  - Train Classification Report\\n\",classification_report(y_train,bag_fit.predict(x_train)))\n",
    "\n",
    "print (\"\\n\\nEnsemble of AdaBoost - Test Confusion Matrix\\n\\n\",pd.crosstab(y_test,bag_fit.predict(x_test),rownames = [\"Actuall\"],colnames = [\"Predicted\"]))      \n",
    "print (\"\\nEnsemble of AdaBoost - Test accuracy\",round(accuracy_score(y_test,bag_fit.predict(x_test)),3))\n",
    "print (\"\\nEnsemble of AdaBoost - Test Classification Report\\n\",classification_report(y_test,bag_fit.predict(x_test)))\n",
    "\n",
    "\n",
    "\n",
    "\n",
    "\n",
    "\n",
    "\n",
    "\n"
   ]
  }
 ],
 "metadata": {
  "kernelspec": {
   "display_name": "Python 3",
   "language": "python",
   "name": "python3"
  },
  "language_info": {
   "codemirror_mode": {
    "name": "ipython",
    "version": 3
   },
   "file_extension": ".py",
   "mimetype": "text/x-python",
   "name": "python",
   "nbconvert_exporter": "python",
   "pygments_lexer": "ipython3",
   "version": "3.6.5"
  }
 },
 "nbformat": 4,
 "nbformat_minor": 2
}
